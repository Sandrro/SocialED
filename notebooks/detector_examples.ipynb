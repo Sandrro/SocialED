{
 "cells": [
  {
   "cell_type": "markdown",
   "metadata": {},
   "source": "# Detector Examples\nThis notebook demonstrates how to run different detectors on the `Event2012` dataset."
  },
  {
   "cell_type": "code",
   "metadata": {},
   "source": "from SocialED.dataset import Event2012\nfrom SocialED.detector import LDA, BERT, SBERT, WORD2VEC, WMD, BiLSTM, EventX, HCRC, CLKD, ETGNN, FinEvent, GloVe, HISEvent, HyperSED, KPGNN, QSGNN, RPLMSED, UCLSED"
  },
  {
   "cell_type": "code",
   "metadata": {},
   "source": "dataset = Event2012()\ndata = dataset.load_data()\nprint('Loaded', len(data), 'tweets')"
  },
  {
   "cell_type": "markdown",
   "metadata": {},
   "source": "## LDA"
  },
  {
   "cell_type": "code",
   "metadata": {},
   "source": "lda = LDA(dataset)\nlda.preprocess()\nlda.fit()\ntruths, preds = lda.detection()\nlda.evaluate(truths, preds)"
  },
  {
   "cell_type": "code",
   "metadata": {},
   "source": "# Per-day detection\ntruths, preds = lda.detection_by_day()"
  },
  {
   "cell_type": "markdown",
   "metadata": {},
   "source": "## BERT"
  },
  {
   "cell_type": "code",
   "metadata": {},
   "source": "bert = BERT(dataset)\nbert.preprocess()\ntruths, preds = bert.detection()\nbert.evaluate(truths, preds)"
  },
  {
   "cell_type": "code",
   "metadata": {},
   "source": "truths, preds = bert.detection_by_day()"
  },
  {
   "cell_type": "markdown",
   "metadata": {},
   "source": "## SBERT"
  },
  {
   "cell_type": "code",
   "metadata": {},
   "source": "sbert = SBERT(dataset)\nsbert.preprocess()\ntruths, preds = sbert.detection()\nsbert.evaluate(truths, preds)"
  },
  {
   "cell_type": "code",
   "metadata": {},
   "source": "truths, preds = sbert.detection_by_day()"
  },
  {
   "cell_type": "markdown",
   "metadata": {},
   "source": "## WORD2VEC"
  },
  {
   "cell_type": "code",
   "metadata": {},
   "source": "w2v = WORD2VEC(dataset)\nw2v.preprocess()\nw2v.fit()\ntruths, preds = w2v.detection()\nw2v.evaluate(truths, preds)"
  },
  {
   "cell_type": "code",
   "metadata": {},
   "source": "truths, preds = w2v.detection_by_day()"
  },
  {
   "cell_type": "markdown",
   "metadata": {},
   "source": "## WMD"
  },
  {
   "cell_type": "code",
   "metadata": {},
   "source": "wmd = WMD(dataset)\nwmd.preprocess()\nwmd.fit()\ntruths, preds = wmd.detection()\nwmd.evaluate(truths, preds)"
  },
  {
   "cell_type": "code",
   "metadata": {},
   "source": "truths, preds = wmd.detection_by_day()"
  },
  {
   "cell_type": "markdown",
   "metadata": {},
   "source": "## BiLSTM"
  },
  {
   "cell_type": "code",
   "metadata": {},
   "source": "bilstm = BiLSTM(dataset)\nbilstm.preprocess()\nbilstm.fit()\ntruths, preds = bilstm.detection()\nbilstm.evaluate(truths, preds)"
  },
  {
   "cell_type": "code",
   "metadata": {},
   "source": "truths, preds = bilstm.detection_by_day()"
  },
  {
   "cell_type": "markdown",
   "metadata": {},
   "source": "## EventX"
  },
  {
   "cell_type": "code",
   "metadata": {},
   "source": "eventx = EventX(dataset)\neventx.preprocess()\neventx.fit()\ntruths, preds = eventx.detection()\neventx.evaluate(truths, preds)"
  },
  {
   "cell_type": "code",
   "metadata": {},
   "source": "truths, preds = eventx.detection_by_day()"
  },
  {
   "cell_type": "markdown",
   "metadata": {},
   "source": "## HCRC"
  },
  {
   "cell_type": "code",
   "metadata": {},
   "source": "hcrc = HCRC(dataset)\ntruths, preds = hcrc.detection()\nhcrc.evaluate(preds, truths)"
  },
  {
   "cell_type": "markdown",
   "metadata": {},
   "source": "## CLKD"
  },
  {
   "cell_type": "code",
   "metadata": {},
   "source": "clkd = CLKD(dataset)\nclkd.preprocess()\nclkd.fit()\ntruths, preds = clkd.detection()\nclkd.evaluate(truths, preds)"
  },
  {
   "cell_type": "code",
   "metadata": {},
   "source": "truths, preds = clkd.detection_by_day()"
  },
  {
   "cell_type": "markdown",
   "metadata": {},
   "source": "## ETGNN"
  },
  {
   "cell_type": "code",
   "metadata": {},
   "source": "etgnn = ETGNN(dataset)\netgnn.preprocess()\netgnn.fit()\ntruths, preds = etgnn.detection()\netgnn.evaluate(truths, preds)"
  },
  {
   "cell_type": "code",
   "metadata": {},
   "source": "truths, preds = etgnn.detection_by_day()"
  },
  {
   "cell_type": "markdown",
   "metadata": {},
   "source": "## FinEvent"
  },
  {
   "cell_type": "code",
   "metadata": {},
   "source": "finevent = FinEvent(dataset)\nfinevent.preprocess()\nfinevent.fit()\ntruths, preds = finevent.detection()\nfinevent.evaluate(truths, preds)"
  },
  {
   "cell_type": "code",
   "metadata": {},
   "source": "truths, preds = finevent.detection_by_day()"
  },
  {
   "cell_type": "markdown",
   "metadata": {},
   "source": "## GloVe"
  },
  {
   "cell_type": "code",
   "metadata": {},
   "source": "glove = GloVe(dataset)\nglove.preprocess()\nglove.fit()\ntruths, preds = glove.detection()\nglove.evaluate(truths, preds)"
  },
  {
   "cell_type": "code",
   "metadata": {},
   "source": "truths, preds = glove.detection_by_day()"
  },
  {
   "cell_type": "markdown",
   "metadata": {},
   "source": "## HISEvent"
  },
  {
   "cell_type": "code",
   "metadata": {},
   "source": "hisevent = HISEvent(dataset)\nhisevent.preprocess()\ntruths, preds = hisevent.detection()\nhisevent.evaluate(truths, preds)"
  },
  {
   "cell_type": "markdown",
   "metadata": {},
   "source": "## HyperSED"
  },
  {
   "cell_type": "code",
   "metadata": {},
   "source": "hypersed = HyperSED(dataset)\nhypersed.preprocess()\nhypersed.fit()\ntruths, preds = hypersed.detection()\nhypersed.evaluate(truths, preds)"
  },
  {
   "cell_type": "code",
   "metadata": {},
   "source": "truths, preds = hypersed.detection_by_day()"
  },
  {
   "cell_type": "markdown",
   "metadata": {},
   "source": "## KPGNN"
  },
  {
   "cell_type": "code",
   "metadata": {},
   "source": "kpgnn = KPGNN(dataset)\nkpgnn.preprocess()\nkpgnn.fit()\ntruths, preds = kpgnn.detection()\nkpgnn.evaluate(truths, preds)"
  },
  {
   "cell_type": "code",
   "metadata": {},
   "source": "truths, preds = kpgnn.detection_by_day()"
  },
  {
   "cell_type": "markdown",
   "metadata": {},
   "source": "## QSGNN"
  },
  {
   "cell_type": "code",
   "metadata": {},
   "source": "qsgnn = QSGNN(dataset)\nqsgnn.preprocess()\nqsgnn.fit()\ntruths, preds = qsgnn.detection()\nqsgnn.evaluate(truths, preds)"
  },
  {
   "cell_type": "code",
   "metadata": {},
   "source": "truths, preds = qsgnn.detection_by_day()"
  },
  {
   "cell_type": "markdown",
   "metadata": {},
   "source": "## RPLMSED"
  },
  {
   "cell_type": "code",
   "metadata": {},
   "source": "rplmsed = RPLMSED(dataset)\nrplmsed.preprocess()\nrplmsed.fit()\ntruths, preds = rplmsed.detection()\nrplmsed.evaluate(truths, preds)"
  },
  {
   "cell_type": "code",
   "metadata": {},
   "source": "truths, preds = rplmsed.detection_by_day()"
  },
  {
   "cell_type": "markdown",
   "metadata": {},
   "source": "## UCLSED"
  },
  {
   "cell_type": "code",
   "metadata": {},
   "source": "uclsed = UCLSED(dataset)\nuclsed.preprocess()\nuclsed.fit()\ntruths, preds = uclsed.detection()\nuclsed.evaluate(truths, preds)"
  },
  {
   "cell_type": "code",
   "metadata": {},
   "source": "truths, preds = uclsed.detection_by_day()"
  }
 ],
 "metadata": {
  "kernelspec": {
   "display_name": "Python 3",
   "language": "python",
   "name": "python3"
  },
  "language_info": {
   "name": "python",
   "version": "3.8"
  }
 },
 "nbformat": 4,
 "nbformat_minor": 5
}
