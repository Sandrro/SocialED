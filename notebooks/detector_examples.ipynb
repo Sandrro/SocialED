{
 "cells": [
  {
   "cell_type": "markdown",
   "metadata": {},
   "source": "# Detector Examples\nThis notebook demonstrates how to run different detectors on the `Event2012` dataset."
  },
  {
   "cell_type": "code",
   "metadata": {},
   "source": "from SocialED.dataset import Event2012\nfrom SocialED.detector import LDA, BERT, SBERT, WORD2VEC, WMD, BiLSTM, EventX, HCRC"
  },
  {
   "cell_type": "code",
   "metadata": {},
   "source": "dataset = Event2012()\ndata = dataset.load_data()\nprint('Loaded', len(data), 'tweets')"
  },
  {
   "cell_type": "markdown",
   "metadata": {},
   "source": "## LDA"
  },
  {
   "cell_type": "code",
   "metadata": {},
   "source": "lda = LDA(dataset)\nlda.preprocess()\nlda.fit()\ntruths, preds = lda.detection()\nlda.evaluate(truths, preds)"
  },
  {
   "cell_type": "code",
   "metadata": {},
   "source": "# Per-day detection\ntruths, preds = lda.detection_by_day()"
  },
  {
   "cell_type": "markdown",
   "metadata": {},
   "source": "## BERT"
  },
  {
   "cell_type": "code",
   "metadata": {},
   "source": "bert = BERT(dataset)\nbert.preprocess()\ntruths, preds = bert.detection()\nbert.evaluate(truths, preds)"
  },
  {
   "cell_type": "code",
   "metadata": {},
   "source": "truths, preds = bert.detection_by_day()"
  },
  {
   "cell_type": "markdown",
   "metadata": {},
   "source": "## SBERT"
  },
  {
   "cell_type": "code",
   "metadata": {},
   "source": "sbert = SBERT(dataset)\nsbert.preprocess()\ntruths, preds = sbert.detection()\nsbert.evaluate(truths, preds)"
  },
  {
   "cell_type": "code",
   "metadata": {},
   "source": "truths, preds = sbert.detection_by_day()"
  },
  {
   "cell_type": "markdown",
   "metadata": {},
   "source": "## WORD2VEC"
  },
  {
   "cell_type": "code",
   "metadata": {},
   "source": "w2v = WORD2VEC(dataset)\nw2v.preprocess()\nw2v.fit()\ntruths, preds = w2v.detection()\nw2v.evaluate(truths, preds)"
  },
  {
   "cell_type": "code",
   "metadata": {},
   "source": "truths, preds = w2v.detection_by_day()"
  },
  {
   "cell_type": "markdown",
   "metadata": {},
   "source": "## WMD"
  },
  {
   "cell_type": "code",
   "metadata": {},
   "source": "wmd = WMD(dataset)\nwmd.preprocess()\nwmd.fit()\ntruths, preds = wmd.detection()\nwmd.evaluate(truths, preds)"
  },
  {
   "cell_type": "code",
   "metadata": {},
   "source": "truths, preds = wmd.detection_by_day()"
  },
  {
   "cell_type": "markdown",
   "metadata": {},
   "source": "## BiLSTM"
  },
  {
   "cell_type": "code",
   "metadata": {},
   "source": "bilstm = BiLSTM(dataset)\nbilstm.preprocess()\nbilstm.fit()\ntruths, preds = bilstm.detection()\nbilstm.evaluate(truths, preds)"
  },
  {
   "cell_type": "code",
   "metadata": {},
   "source": "truths, preds = bilstm.detection_by_day()"
  },
  {
   "cell_type": "markdown",
   "metadata": {},
   "source": "## EventX"
  },
  {
   "cell_type": "code",
   "metadata": {},
   "source": "eventx = EventX(dataset)\neventx.preprocess()\neventx.fit()\ntruths, preds = eventx.detection()\neventx.evaluate(truths, preds)"
  },
  {
   "cell_type": "code",
   "metadata": {},
   "source": "truths, preds = eventx.detection_by_day()"
  },
  {
   "cell_type": "markdown",
   "metadata": {},
   "source": "## HCRC"
  },
  {
   "cell_type": "code",
   "metadata": {},
   "source": "hcrc = HCRC(dataset)\ntruths, preds = hcrc.detection()\nhcrc.evaluate(preds, truths)"
  }
 ],
 "metadata": {
  "kernelspec": {
   "display_name": "Python 3",
   "language": "python",
   "name": "python3"
  },
  "language_info": {
   "name": "python",
   "version": "3.8"
  }
 },
 "nbformat": 4,
 "nbformat_minor": 5
}
